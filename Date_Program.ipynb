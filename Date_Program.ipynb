{
  "nbformat": 4,
  "nbformat_minor": 0,
  "metadata": {
    "colab": {
      "provenance": [],
      "authorship_tag": "ABX9TyMEHL7ME7u310XmWG9IkB1c",
      "include_colab_link": true
    },
    "kernelspec": {
      "name": "python3",
      "display_name": "Python 3"
    },
    "language_info": {
      "name": "python"
    }
  },
  "cells": [
    {
      "cell_type": "markdown",
      "metadata": {
        "id": "view-in-github",
        "colab_type": "text"
      },
      "source": [
        "<a href=\"https://colab.research.google.com/github/GeorgeLaopodis/GeorgeLaopodis/blob/main/Date_Program.ipynb\" target=\"_parent\"><img src=\"https://colab.research.google.com/assets/colab-badge.svg\" alt=\"Open In Colab\"/></a>"
      ]
    },
    {
      "cell_type": "code",
      "execution_count": null,
      "metadata": {
        "id": "xGs9kk907_ui"
      },
      "outputs": [],
      "source": [
        "UI= str(input('Enter todays date as mm/dd/yyyy: '))\n",
        "month=UI[:2]\n",
        "if month==\"01\":\n",
        "  print(\"Month: \"+ \"Jan\")\n",
        "elif month==\"02\":\n",
        "  print(\"Month: \"+ \"Feb\")\n",
        "elif month==\"03\":\n",
        "  print(\"Month: \"+ \"Mar\")\n",
        "elif month==\"04\":\n",
        "  print(\"Month: \"+ \"Apr\")\n",
        "elif month==\"05\":\n",
        "  print(\"Month: \"+ \"May\")\n",
        "elif month==\"06\":\n",
        "  print(\"Month: \"+ \"Jun\")\n",
        "elif month==\"07\":\n",
        "  print(\"Month: \"+ \"Jul\")\n",
        "elif month==\"08\":\n",
        "  print(\"Month: \"+ \"Aug\")\n",
        "elif month==\"09\":\n",
        "  print(\"Month: \"+ \"Sep\")\n",
        "elif month==\"10\":\n",
        "  print(\"Month: \"+ \"Oct\")\n",
        "elif month==\"11\":\n",
        "  print(\"Month: \"+ \"Nov\")\n",
        "elif month==\"12\":\n",
        "  print(\"Month: \"+ \"Dec\")\n",
        "else:\n",
        "  print(\"Month: \"+month)\n",
        "day=UI[3:5]\n",
        "print(\"Day: \"+day)\n",
        "year=UI[6:len(UI)]\n",
        "print(\"Year: \"+year)"
      ]
    }
  ]
}