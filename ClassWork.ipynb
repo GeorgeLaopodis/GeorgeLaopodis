{
  "nbformat": 4,
  "nbformat_minor": 0,
  "metadata": {
    "colab": {
      "provenance": [],
      "authorship_tag": "ABX9TyN/qc1mJIk+gFtzldFNCnHf",
      "include_colab_link": true
    },
    "kernelspec": {
      "name": "python3",
      "display_name": "Python 3"
    },
    "language_info": {
      "name": "python"
    }
  },
  "cells": [
    {
      "cell_type": "markdown",
      "metadata": {
        "id": "view-in-github",
        "colab_type": "text"
      },
      "source": [
        "<a href=\"https://colab.research.google.com/github/GeorgeLaopodis/GeorgeLaopodis/blob/main/ClassWork.ipynb\" target=\"_parent\"><img src=\"https://colab.research.google.com/assets/colab-badge.svg\" alt=\"Open In Colab\"/></a>"
      ]
    },
    {
      "cell_type": "code",
      "source": [
        "deposit = float(input('Enter deposit amount: '))\n",
        "\n",
        "if deposit > 10000:\n",
        "  ir=3.5\n",
        "elif deposit > 1000:\n",
        "  ir=3.25\n",
        "else:\n",
        "  ir=3.0\n",
        "total=(1+ir/100)*deposit\n",
        "print(f'Deposit at the ed of the year: {total}')"
      ],
      "metadata": {
        "colab": {
          "base_uri": "https://localhost:8080/"
        },
        "id": "TmXzAWSOjKKi",
        "outputId": "f3f45a3f-be56-46c7-c923-37d679d2374c"
      },
      "execution_count": null,
      "outputs": [
        {
          "output_type": "stream",
          "name": "stdout",
          "text": [
            "Enter deposit amount: 10000\n",
            "Deposit at the ed of the year: 10325.0\n"
          ]
        }
      ]
    },
    {
      "cell_type": "code",
      "source": [
        "deposit = float(input('Enter deposit amount: '))\n",
        "customer_type=input('Enter customer type(n:new,e:existing):')\n",
        "\n",
        "if customer_type=='n':\n",
        "  ir=3.0\n",
        "else:\n",
        "  if deposit > 10000:\n",
        "    ir=3.5\n",
        "  elif deposit > 1000:\n",
        "    ir=3.25\n",
        "  else:\n",
        "    ir=3.0\n",
        "total=(1+ir/100)*deposit\n",
        "print(f'Deposit at the ed of the year: {total}')"
      ],
      "metadata": {
        "id": "sv-l4YPfofyd"
      },
      "execution_count": null,
      "outputs": []
    },
    {
      "cell_type": "code",
      "source": [
        "guess = float(input('Enter a Guess 1-10: '))\n",
        "\n",
        "if guess == 6:\n",
        "  print(\"YES\")\n",
        "else:\n",
        " print(\"NO\")"
      ],
      "metadata": {
        "colab": {
          "base_uri": "https://localhost:8080/"
        },
        "id": "BkwMI2g1lBCJ",
        "outputId": "31791ef2-d5f2-403d-cc8f-5262c7d0cdcd"
      },
      "execution_count": null,
      "outputs": [
        {
          "output_type": "stream",
          "name": "stdout",
          "text": [
            "Enter a Guess 1-10: 5\n",
            "NO\n"
          ]
        }
      ]
    },
    {
      "cell_type": "code",
      "source": [
        "x=4\n",
        "if x%2==0 and x%3==0:\n",
        "  print('Divisible by 2 and 3')\n",
        "elif(x%2==0 and x%3!=0):\n",
        "  print('Divisible by 2 and not by 3')\n",
        "else:\n",
        "  print(\"Not divisible by eithir 2 or 3\")"
      ],
      "metadata": {
        "colab": {
          "base_uri": "https://localhost:8080/"
        },
        "id": "94o2l-Wpx2_d",
        "outputId": "053c36cd-0e4b-4504-b682-285be2a3a8e7"
      },
      "execution_count": null,
      "outputs": [
        {
          "output_type": "stream",
          "name": "stdout",
          "text": [
            "Divisible by 2 and not by 3\n"
          ]
        }
      ]
    },
    {
      "cell_type": "code",
      "source": [
        "age=int(input('Insert your age: '))\n",
        "status=str(input(\"single or married: \"))\n",
        "networth=int(input('Insert your networth: '))\n",
        "if age>25 and status=='single' or networth>100000:\n",
        "  print('Accepted for loan')\n",
        "else:\n",
        "  print('Not accepted for loan')"
      ],
      "metadata": {
        "colab": {
          "base_uri": "https://localhost:8080/"
        },
        "id": "EORz8G1ey1EU",
        "outputId": "d84c1796-ce12-4978-ae5f-e0fd8b76c4c3"
      },
      "execution_count": null,
      "outputs": [
        {
          "output_type": "stream",
          "name": "stdout",
          "text": [
            "Insert your age: 26\n",
            "single or married: Married\n",
            "Insert your networth: 124000\n",
            "Accepted for loan\n"
          ]
        }
      ]
    },
    {
      "cell_type": "code",
      "source": [
        "!pip install ColabTurtlePLus"
      ],
      "metadata": {
        "id": "HFgLYWUS397n",
        "colab": {
          "base_uri": "https://localhost:8080/"
        },
        "outputId": "bee9a6cb-ec1e-4859-f897-7aefa66903ea"
      },
      "execution_count": null,
      "outputs": [
        {
          "output_type": "stream",
          "name": "stdout",
          "text": [
            "Collecting ColabTurtlePLus\n",
            "  Downloading ColabTurtlePlus-2.0.1-py3-none-any.whl (31 kB)\n",
            "Installing collected packages: ColabTurtlePLus\n",
            "Successfully installed ColabTurtlePLus-2.0.1\n"
          ]
        }
      ]
    },
    {
      "cell_type": "code",
      "source": [
        "from ColabTurtlePlus.Turtle import *\n",
        "clearscreen()\n",
        "color('brown','green')\n",
        "begin_fill()\n",
        "jumpto(0,0)\n",
        "\n",
        "#one number means end in this case end at 4 times\n",
        "for var in range(4):\n",
        "  forward(100)\n",
        "  left(90)\n",
        "\n",
        "end_fill()"
      ],
      "metadata": {
        "colab": {
          "base_uri": "https://localhost:8080/",
          "height": 621
        },
        "id": "14wLVDPmh1-2",
        "outputId": "78aa012d-6a9f-465a-dd44-91be152484aa"
      },
      "execution_count": null,
      "outputs": [
        {
          "output_type": "display_data",
          "data": {
            "text/plain": [
              "<IPython.core.display.HTML object>"
            ],
            "text/html": [
              "\n",
              "      <svg width=\"800\" height=\"600\">  \n",
              "        <rect width=\"100%\" height=\"100%\" style=\"fill:white;stroke:;stroke-width:1\"/>\n",
              "        \n",
              "        \n",
              "        <path fill-rule=\"evenodd\" fill-opacity=\"1\" d=\"M 400.0 300.0  L 400.0 300.0  L 500.0 300.0  L 500.0 200.0  L 400.0 200.0  L 400.0 300.0 \" stroke-linecap=\"round\" style=\"stroke:brown;stroke-width:1\" fill=\"green\" />\n",
              "        \n",
              "        \n",
              "        <g id=\"classic\" visibility=\"visible\" transform=\"rotate(-90,400.0,300.0) translate(400.0, 300.0)\">\n",
              "<polygon points=\"-5,-4.5 0,-2.5 5,-4.5 0,4.5\" transform=\"skewX(0) scale(1,1)\" style=\"stroke:brown;fill:green;stroke-width:1\" />\n",
              "</g>\n",
              "      </svg>\n",
              "    "
            ]
          },
          "metadata": {}
        }
      ]
    },
    {
      "cell_type": "code",
      "source": [
        "for i in range (10,5,-1):\n",
        "  print (i)"
      ],
      "metadata": {
        "colab": {
          "base_uri": "https://localhost:8080/"
        },
        "id": "TpbeCGIpnk7B",
        "outputId": "363210a7-364e-4278-86b4-54d617e3e8d2"
      },
      "execution_count": null,
      "outputs": [
        {
          "output_type": "stream",
          "name": "stdout",
          "text": [
            "10\n",
            "9\n",
            "8\n",
            "7\n",
            "6\n"
          ]
        }
      ]
    },
    {
      "cell_type": "code",
      "source": [
        "for x in range (1,9,1):\n",
        "  fee= 5+ x*2.50\n",
        "  print (x, fee)"
      ],
      "metadata": {
        "colab": {
          "base_uri": "https://localhost:8080/"
        },
        "id": "6QFYAjST1S78",
        "outputId": "fd0a8db3-864a-4e92-9585-93190b0391ad"
      },
      "execution_count": null,
      "outputs": [
        {
          "output_type": "stream",
          "name": "stdout",
          "text": [
            "1 7.5\n",
            "2 10.0\n",
            "3 12.5\n",
            "4 15.0\n",
            "5 17.5\n",
            "6 20.0\n",
            "7 22.5\n",
            "8 25.0\n"
          ]
        }
      ]
    },
    {
      "cell_type": "code",
      "source": [
        "# Define the range of x values\n",
        "x_range = range(1, 9, 1)\n",
        "\n",
        "# Define the fee formula\n",
        "def fee(x):\n",
        "    return 5 + x * 2.50\n",
        "\n",
        "# Loop through the x values and print the fee\n",
        "for x in x_range:\n",
        "    # Clamp the fee value between 10 and 20\n",
        "    fee_value = min(max(fee(x), 10), 20)\n",
        "    print(x, fee_value)"
      ],
      "metadata": {
        "colab": {
          "base_uri": "https://localhost:8080/"
        },
        "id": "Efrr-mxU765a",
        "outputId": "0766f016-8c20-433d-964a-86353c498a68"
      },
      "execution_count": null,
      "outputs": [
        {
          "output_type": "stream",
          "name": "stdout",
          "text": [
            "1 10\n",
            "2 10.0\n",
            "3 12.5\n",
            "4 15.0\n",
            "5 17.5\n",
            "6 20.0\n",
            "7 20\n",
            "8 20\n"
          ]
        }
      ]
    },
    {
      "cell_type": "code",
      "source": [
        "x=range(0, 225, 25)\n",
        "fixed_cost=200\n",
        "ticket=10\n",
        "forecasted_attendees=20\n",
        "for ad_cost in range(0,225,25):\n",
        "    additonal_attendees= 2* round(ad_cost**.5)\n",
        "    profit= ticket*additonal_attendees-ad_cost\n",
        "    print(x, profit)"
      ],
      "metadata": {
        "colab": {
          "base_uri": "https://localhost:8080/"
        },
        "id": "1RTYSBX-8sAd",
        "outputId": "f42f90e2-9fb9-436d-9bfe-40d5e1d6014c"
      },
      "execution_count": null,
      "outputs": [
        {
          "output_type": "stream",
          "name": "stdout",
          "text": [
            "range(0, 225, 25) 0\n",
            "range(0, 225, 25) 75\n",
            "range(0, 225, 25) 90\n",
            "range(0, 225, 25) 105\n",
            "range(0, 225, 25) 100\n",
            "range(0, 225, 25) 95\n",
            "range(0, 225, 25) 90\n",
            "range(0, 225, 25) 85\n",
            "range(0, 225, 25) 80\n"
          ]
        }
      ]
    },
    {
      "cell_type": "markdown",
      "source": [
        "Leap Year code"
      ],
      "metadata": {
        "id": "QRUpUXXbDO5A"
      }
    },
    {
      "cell_type": "code",
      "source": [
        "year = int(input(\"Enter a year: \"))\n",
        "\n",
        "if (year % 4 == 0 and year % 100 != 0) or (year % 400 == 0):\n",
        "    print(f\"{year} is a leap year!\")\n",
        "else:\n",
        "    print(f\"{year} is not a leap year.\")"
      ],
      "metadata": {
        "id": "xDoOU71LkXNZ",
        "colab": {
          "base_uri": "https://localhost:8080/"
        },
        "outputId": "825d4b25-f324-48ee-ea14-166b6c264050"
      },
      "execution_count": 3,
      "outputs": [
        {
          "output_type": "stream",
          "name": "stdout",
          "text": [
            "Enter a year: 2024\n",
            "2024 is a leap year!\n"
          ]
        }
      ]
    },
    {
      "cell_type": "markdown",
      "source": [
        "Rock-Paper-Scissors"
      ],
      "metadata": {
        "id": "IuoRqKOqDRGY"
      }
    },
    {
      "cell_type": "code",
      "source": [
        "import random\n",
        "\n",
        "user_choice = input(\"Enter your choice (rock, paper, or scissors): \")\n",
        "computer_choice = random.choice([\"rock\", \"paper\", \"scissors\"])\n",
        "\n",
        "print(f\"You chose: {user_choice}\")\n",
        "print(f\"Computer chose: {computer_choice}\")\n",
        "\n",
        "if user_choice == computer_choice:\n",
        "    print(\"It's a tie!\")\n",
        "elif (\n",
        "    (user_choice == \"rock\" and computer_choice == \"scissors\") or\n",
        "    (user_choice == \"paper\" and computer_choice == \"rock\") or\n",
        "    (user_choice == \"scissors\" and computer_choice == \"paper\")\n",
        "):\n",
        "    print(\"You win!\")\n",
        "else:\n",
        "    print(\"Computer wins!\")"
      ],
      "metadata": {
        "colab": {
          "base_uri": "https://localhost:8080/"
        },
        "id": "HHPTnAEKDWDm",
        "outputId": "b38ea8ab-1f0c-43b8-8c9e-2dbfe6aa4ef3"
      },
      "execution_count": 1,
      "outputs": [
        {
          "output_type": "stream",
          "name": "stdout",
          "text": [
            "Enter your choice (rock, paper, or scissors): rock\n",
            "You chose: rock\n",
            "Computer chose: paper\n",
            "Computer wins!\n"
          ]
        }
      ]
    }
  ]
}