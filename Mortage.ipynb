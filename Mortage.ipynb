{
  "nbformat": 4,
  "nbformat_minor": 0,
  "metadata": {
    "colab": {
      "provenance": [],
      "authorship_tag": "ABX9TyOQgtTS1MytVTF30yNMmSWA",
      "include_colab_link": true
    },
    "kernelspec": {
      "name": "python3",
      "display_name": "Python 3"
    },
    "language_info": {
      "name": "python"
    }
  },
  "cells": [
    {
      "cell_type": "markdown",
      "metadata": {
        "id": "view-in-github",
        "colab_type": "text"
      },
      "source": [
        "<a href=\"https://colab.research.google.com/github/GeorgeLaopodis/GeorgeLaopodis/blob/main/Mortage.ipynb\" target=\"_parent\"><img src=\"https://colab.research.google.com/assets/colab-badge.svg\" alt=\"Open In Colab\"/></a>"
      ]
    },
    {
      "cell_type": "code",
      "execution_count": 17,
      "metadata": {
        "colab": {
          "base_uri": "https://localhost:8080/"
        },
        "id": "Xnc9tC5zJ2oa",
        "outputId": "aa66a2e6-e61e-4c85-c331-d3e868a2ee43"
      },
      "outputs": [
        {
          "output_type": "stream",
          "name": "stdout",
          "text": [
            "What is the initial loan amount? 10000\n",
            "What is the maturity term? 30\n",
            "What is the Interest Rate? 6\n",
            "\n",
            "The initial loan amount is 10000\n",
            "The maturity term is 30\n",
            "The interest rate is 6.0\n",
            "The monthly payment:\n",
            "The monthly payment is 726.489114900472\n"
          ]
        }
      ],
      "source": [
        "class Mortgage:\n",
        "    def __init__(self, loan, maturity, interest):\n",
        "        self.loan = loan\n",
        "        self.maturity = maturity\n",
        "        self.interest = interest / 100  # Assuming the interest rate input is a percentage\n",
        "\n",
        "    def get_interest(self):\n",
        "        return self.interest\n",
        "\n",
        "    def set_interest(self, new_interest):\n",
        "        if new_interest >= 0:\n",
        "            self.interest = new_interest\n",
        "        else:\n",
        "            print(\"Please enter a non-negative interest value!\")\n",
        "\n",
        "    def calculate(self):\n",
        "        B = self.loan\n",
        "        n = self.maturity\n",
        "        r = self.interest\n",
        "        if r == 0:\n",
        "            M = B / n  # Avoid division by zero if interest is 0\n",
        "        else:\n",
        "            M = B * (r * (1 + r)**n) / ((1 + r)**n - 1)\n",
        "        print(f'The monthly payment is {M}')\n",
        "\n",
        "# Inputs from the user\n",
        "i_loan = int(input(\"What is the initial loan amount? \"))\n",
        "i_maturity = int(input(\"What is the maturity term? \"))\n",
        "i_interest = float(input(\"What is the Interest Rate? \"))\n",
        "\n",
        "# Creating an instance of Mortgage\n",
        "m = Mortgage(i_loan, i_maturity, i_interest)\n",
        "\n",
        "print(\"\")\n",
        "print(f\"The initial loan amount is {i_loan}\")\n",
        "print(f\"The maturity term is {i_maturity}\")\n",
        "print(f\"The interest rate is {i_interest}\")\n",
        "print(\"The monthly payment:\")\n",
        "m.calculate()\n"
      ]
    }
  ]
}