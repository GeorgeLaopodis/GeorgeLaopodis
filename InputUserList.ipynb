{
  "nbformat": 4,
  "nbformat_minor": 0,
  "metadata": {
    "colab": {
      "provenance": [],
      "authorship_tag": "ABX9TyN33erHHF6yaLbtw1tOUK+f",
      "include_colab_link": true
    },
    "kernelspec": {
      "name": "python3",
      "display_name": "Python 3"
    },
    "language_info": {
      "name": "python"
    }
  },
  "cells": [
    {
      "cell_type": "markdown",
      "metadata": {
        "id": "view-in-github",
        "colab_type": "text"
      },
      "source": [
        "<a href=\"https://colab.research.google.com/github/GeorgeLaopodis/GeorgeLaopodis/blob/main/InputUserList.ipynb\" target=\"_parent\"><img src=\"https://colab.research.google.com/assets/colab-badge.svg\" alt=\"Open In Colab\"/></a>"
      ]
    },
    {
      "cell_type": "markdown",
      "source": [
        "Input User List"
      ],
      "metadata": {
        "id": "50VZmJ9BG2ON"
      }
    },
    {
      "cell_type": "code",
      "execution_count": 31,
      "metadata": {
        "colab": {
          "base_uri": "https://localhost:8080/"
        },
        "id": "NzOveCDOEAMN",
        "outputId": "623947f6-f3dc-412a-cb0f-89b39d5754dc"
      },
      "outputs": [
        {
          "output_type": "stream",
          "name": "stdout",
          "text": [
            "Enter a value: 1\n",
            "Enter a value: 2\n",
            "Enter a value: 3\n",
            "Enter a value: 0\n",
            "Stopped.\n",
            "[1, 2, 3]\n"
          ]
        }
      ],
      "source": [
        "L = []\n",
        "while True:\n",
        "    try:\n",
        "        number = int(input('Enter a value: '))\n",
        "        L.append(number)\n",
        "        if number == 0:\n",
        "          L.pop()\n",
        "          print(\"Stopped.\")\n",
        "          break\n",
        "    except ValueError:\n",
        "        print(\"Invalid input. Enter an integer.\")\n",
        "print(L)"
      ]
    }
  ]
}