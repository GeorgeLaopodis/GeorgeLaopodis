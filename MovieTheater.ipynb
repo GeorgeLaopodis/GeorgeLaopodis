{
  "nbformat": 4,
  "nbformat_minor": 0,
  "metadata": {
    "colab": {
      "provenance": [],
      "authorship_tag": "ABX9TyM3lyc2QB8GwTOtDJitBJx0",
      "include_colab_link": true
    },
    "kernelspec": {
      "name": "python3",
      "display_name": "Python 3"
    },
    "language_info": {
      "name": "python"
    }
  },
  "cells": [
    {
      "cell_type": "markdown",
      "metadata": {
        "id": "view-in-github",
        "colab_type": "text"
      },
      "source": [
        "<a href=\"https://colab.research.google.com/github/GeorgeLaopodis/GeorgeLaopodis/blob/main/MovieTheater.ipynb\" target=\"_parent\"><img src=\"https://colab.research.google.com/assets/colab-badge.svg\" alt=\"Open In Colab\"/></a>"
      ]
    },
    {
      "cell_type": "code",
      "execution_count": null,
      "metadata": {
        "id": "BFoOKKaV7ksT"
      },
      "outputs": [],
      "source": [
        "x=range(0, 225, 25)\n",
        "fixed_cost=200\n",
        "ticket=10\n",
        "forecasted_attendees=20\n",
        "for ad_cost in range(0,225,25):\n",
        "    additonal_attendees= 2* round(ad_cost**.5)\n",
        "    profit= ticket*additonal_attendees-ad_cost\n",
        "    print(x, profit)"
      ]
    }
  ]
}