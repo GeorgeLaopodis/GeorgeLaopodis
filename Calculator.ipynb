{
  "nbformat": 4,
  "nbformat_minor": 0,
  "metadata": {
    "colab": {
      "provenance": [],
      "authorship_tag": "ABX9TyMZpJ7/bvxNyQkJ6K6Gwo3Z",
      "include_colab_link": true
    },
    "kernelspec": {
      "name": "python3",
      "display_name": "Python 3"
    },
    "language_info": {
      "name": "python"
    }
  },
  "cells": [
    {
      "cell_type": "markdown",
      "metadata": {
        "id": "view-in-github",
        "colab_type": "text"
      },
      "source": [
        "<a href=\"https://colab.research.google.com/github/GeorgeLaopodis/GeorgeLaopodis/blob/main/Calculator.ipynb\" target=\"_parent\"><img src=\"https://colab.research.google.com/assets/colab-badge.svg\" alt=\"Open In Colab\"/></a>"
      ]
    },
    {
      "cell_type": "markdown",
      "source": [
        "Design a Calculator:\n",
        "\n",
        "* The calculator once starts, cannot stop unless the user chooses to  \n",
        "(hint: infinite loop)\n",
        "* Implement all numerical operators that we discussed\n",
        "* The user has to provide the numbers and the desired operaator from the keyboard; then, the calculator will displau the result\n",
        "* Numbers: int or float, operator: str\n",
        "* The calculator stops if the user enters the word \"break\" instead of an operator; it skips an iteration if the user gives an operator that is not numerical (ex. a boolian one)\n"
      ],
      "metadata": {
        "id": "uLt3cG0-pomT"
      }
    },
    {
      "cell_type": "code",
      "source": [
        "#defining addition\n",
        "def add(x, y):\n",
        "    return x + y\n",
        "#defining subtraction\n",
        "def subtract(x, y):\n",
        "    return x - y\n",
        "#defining multiplication\n",
        "def multiply(x, y):\n",
        "    return x * y\n",
        "#defining to the power of\n",
        "def power(x, y):\n",
        "    return x ** y\n",
        "#defining division\n",
        "def divide(x, y):\n",
        "    if y != 0:\n",
        "        return x / y\n",
        "    else:\n",
        "        return \"Error: Cannot divide by zero\"\n",
        "#defining remainder\n",
        "def remainder (x,y):\n",
        "    return x % y\n",
        "#setting up loop and 1st input\n",
        "while True:\n",
        "    try:\n",
        "        num1 = float(input(\"Enter the first number: \"))\n",
        "        operator = input(\"Enter an operator (+, -, *, **, /, //, %): \")\n",
        "#setting up break requirement\n",
        "        if operator == \"break\":\n",
        "            print(\"Calculator stopped.\")\n",
        "            break\n",
        "#setting up 2nd input\n",
        "        num2 = float(input(\"Enter the second number: \"))\n",
        "#setting up operators\n",
        "        if operator == \"+\":\n",
        "            result = add(num1, num2)\n",
        "        elif operator == \"-\":\n",
        "            result = subtract(num1, num2)\n",
        "        elif operator==\"**\":\n",
        "            result=power(num1,num2)\n",
        "        elif operator==\"%\":\n",
        "            result=remainder(num1,num2)\n",
        "        elif operator == \"*\":\n",
        "            result = multiply(num1, num2)\n",
        "        elif operator == \"/\":\n",
        "            result = divide(num1, num2)\n",
        "        elif operator == \"//\":\n",
        "            result= num1 // num2\n",
        "        else:\n",
        "            print(\"Invalid operator. Skipping this iteration.\")\n",
        "            continue\n",
        "#setting up final print solution\n",
        "        print(f\"Result: {result}\")\n",
        "#setting up an except all for fail safe\n",
        "    except ValueError:\n",
        "        print(\"Invalid input. Please enter valid numbers.\")"
      ],
      "metadata": {
        "colab": {
          "base_uri": "https://localhost:8080/"
        },
        "id": "7F0bA9Fup2Q6",
        "outputId": "f14ae61f-f3a4-4f10-d758-e65c3eaac38f"
      },
      "execution_count": null,
      "outputs": [
        {
          "name": "stdout",
          "output_type": "stream",
          "text": [
            "Enter the first number: 1\n"
          ]
        }
      ]
    }
  ]
}