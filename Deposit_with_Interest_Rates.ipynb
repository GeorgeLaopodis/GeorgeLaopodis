{
  "nbformat": 4,
  "nbformat_minor": 0,
  "metadata": {
    "colab": {
      "provenance": [],
      "authorship_tag": "ABX9TyMnA2O49WI3N8rjN4NQGzG3",
      "include_colab_link": true
    },
    "kernelspec": {
      "name": "python3",
      "display_name": "Python 3"
    },
    "language_info": {
      "name": "python"
    }
  },
  "cells": [
    {
      "cell_type": "markdown",
      "metadata": {
        "id": "view-in-github",
        "colab_type": "text"
      },
      "source": [
        "<a href=\"https://colab.research.google.com/github/GeorgeLaopodis/GeorgeLaopodis/blob/main/Deposit_with_Interest_Rates.ipynb\" target=\"_parent\"><img src=\"https://colab.research.google.com/assets/colab-badge.svg\" alt=\"Open In Colab\"/></a>"
      ]
    },
    {
      "cell_type": "code",
      "execution_count": 1,
      "metadata": {
        "colab": {
          "base_uri": "https://localhost:8080/"
        },
        "id": "RmToyAK66kkU",
        "outputId": "52eff2fc-5631-4ff0-ab66-69802e081ee4"
      },
      "outputs": [
        {
          "output_type": "stream",
          "name": "stdout",
          "text": [
            "Enter deposit amount: 1000\n",
            "Enter customer type(n:new,e:existing):new\n",
            "Deposit at the ed of the year: 1030.0\n"
          ]
        }
      ],
      "source": [
        "deposit = float(input('Enter deposit amount: '))\n",
        "customer_type=input('Enter customer type(n:new,e:existing):')\n",
        "\n",
        "if customer_type=='n':\n",
        "  ir=3.0\n",
        "else:\n",
        "  if deposit > 10000:\n",
        "    ir=3.5\n",
        "  elif deposit > 1000:\n",
        "    ir=3.25\n",
        "  else:\n",
        "    ir=3.0\n",
        "total=(1+ir/100)*deposit\n",
        "print(f'Deposit at the ed of the year: {total}')"
      ]
    }
  ]
}