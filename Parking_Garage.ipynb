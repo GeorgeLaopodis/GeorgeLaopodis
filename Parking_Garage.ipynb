{
  "nbformat": 4,
  "nbformat_minor": 0,
  "metadata": {
    "colab": {
      "provenance": [],
      "authorship_tag": "ABX9TyOqzCGUWsMbVAmjgbpO8tGE",
      "include_colab_link": true
    },
    "kernelspec": {
      "name": "python3",
      "display_name": "Python 3"
    },
    "language_info": {
      "name": "python"
    }
  },
  "cells": [
    {
      "cell_type": "markdown",
      "metadata": {
        "id": "view-in-github",
        "colab_type": "text"
      },
      "source": [
        "<a href=\"https://colab.research.google.com/github/GeorgeLaopodis/GeorgeLaopodis/blob/main/Parking_Garage.ipynb\" target=\"_parent\"><img src=\"https://colab.research.google.com/assets/colab-badge.svg\" alt=\"Open In Colab\"/></a>"
      ]
    },
    {
      "cell_type": "markdown",
      "source": [
        "Parking Garage Code"
      ],
      "metadata": {
        "id": "4HzmodN1AGnW"
      }
    },
    {
      "cell_type": "code",
      "execution_count": null,
      "metadata": {
        "id": "c3OME0kFAFF6"
      },
      "outputs": [],
      "source": [
        "# Define the range of x values\n",
        "x_range = range(1, 9, 1)\n",
        "\n",
        "# Define the fee formula\n",
        "def fee(x):\n",
        "    return 5 + x * 2.50\n",
        "\n",
        "# Loop through the x values and print the fee\n",
        "for x in x_range:\n",
        "    # Clamp the fee value between 10 and 20\n",
        "    fee_value = min(max(fee(x), 10), 20)\n",
        "    print(x, fee_value)"
      ]
    }
  ]
}